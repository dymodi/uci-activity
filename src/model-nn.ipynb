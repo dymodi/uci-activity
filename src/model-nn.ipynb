{
 "cells": [
  {
   "cell_type": "markdown",
   "id": "817bff7f",
   "metadata": {},
   "source": [
    "# Neural Network on UCI Activity"
   ]
  },
  {
   "cell_type": "code",
   "execution_count": null,
   "id": "c5a5dc78",
   "metadata": {},
   "outputs": [],
   "source": [
    "import os\n",
    "import torch\n",
    "from torch import nn\n",
    "from torch.utils.data import Dataset, DataLoader\n",
    "import matplotlib.pyplot as plt\n",
    "import pandas as pd"
   ]
  },
  {
   "cell_type": "markdown",
   "id": "1523f3ce",
   "metadata": {},
   "source": [
    "## Read Data"
   ]
  },
  {
   "cell_type": "code",
   "execution_count": null,
   "id": "f4f48522",
   "metadata": {},
   "outputs": [],
   "source": [
    "df_train = pd.read_csv(\"../data/train.csv\")\n",
    "df_test = pd.read_csv(\"../data/test.csv\")\n",
    "display(df_train.head(5))"
   ]
  },
  {
   "cell_type": "markdown",
   "id": "781315e5",
   "metadata": {},
   "source": [
    "## Visualize data"
   ]
  },
  {
   "cell_type": "code",
   "execution_count": null,
   "id": "d7b03c6b",
   "metadata": {},
   "outputs": [],
   "source": [
    "display(df_train.head(5))\n",
    "display(df_train.describe())\n",
    "# df_train.hist(bins=20, figsize=(30,30))\n",
    "# plt.show()\n",
    "\n",
    "# display(df_test.head(5))\n",
    "# display(df_test.describe())\n",
    "\n",
    "label_ls = list(set(df_train['Activity'].tolist()))\n",
    "print(label_ls)"
   ]
  },
  {
   "cell_type": "markdown",
   "id": "f7dbb3d3",
   "metadata": {},
   "source": [
    "## Pytorch data loader"
   ]
  },
  {
   "cell_type": "code",
   "execution_count": 253,
   "id": "d481d785",
   "metadata": {},
   "outputs": [],
   "source": [
    "label_ls = ['WALKING_UPSTAIRS', 'WALKING_DOWNSTAIRS', 'WALKING', 'STANDING', 'SITTING', 'LAYING']\n",
    "\n",
    "class DatasetFromPandas(Dataset):\n",
    "    def __init__(self, df):\n",
    "        \n",
    "        ## Label processing, standing or not\n",
    "        df['label'] = df.apply(lambda row : label_ls.index(row[562]), axis = 1)\n",
    "        \n",
    "        x = df.iloc[:,0:500].values\n",
    "        y = df['label'].values\n",
    "        \n",
    "        self.x=torch.tensor(x,dtype=torch.float32)\n",
    "        self.y=torch.tensor(y,dtype=torch.int64)\n",
    "\n",
    "    def __len__(self):\n",
    "        return len(self.y)\n",
    "    \n",
    "    def __getitem__(self,idx):\n",
    "        return self.x[idx],self.y[idx]"
   ]
  },
  {
   "cell_type": "code",
   "execution_count": 411,
   "id": "12e56cba",
   "metadata": {},
   "outputs": [
    {
     "name": "stdout",
     "output_type": "stream",
     "text": [
      "tensor([3, 3, 3,  ..., 0, 0, 0])\n",
      "tensor([3, 3, 3,  ..., 0, 0, 0])\n",
      "Shape of X [N, C, H, W]:  torch.Size([20, 500])\n",
      "Shape of y:  torch.Size([20]) torch.int64\n",
      "Using cpu device\n"
     ]
    }
   ],
   "source": [
    "my_train = DatasetFromPandas(df_train)\n",
    "my_test = DatasetFromPandas(df_test)\n",
    "batch_size = 20\n",
    "\n",
    "print(my_train.y)\n",
    "print(my_test.y)\n",
    "\n",
    "# Create data loaders.\n",
    "train_dataloader = DataLoader(my_train, batch_size=batch_size, shuffle=True)\n",
    "test_dataloader = DataLoader(my_test, batch_size=batch_size, shuffle=True)\n",
    "\n",
    "for X, y in test_dataloader:\n",
    "    print(\"Shape of X [N, C, H, W]: \", X.shape) # N: batch size, C: channel, H: height, W: width\n",
    "    print(\"Shape of y: \", y.shape, y.dtype)\n",
    "    break\n",
    "    \n",
    "# Creating Models\n",
    "# Get cpu or gpu device for training.\n",
    "device = \"cuda\" if torch.cuda.is_available() else \"cpu\"\n",
    "print(\"Using {} device\".format(device))"
   ]
  },
  {
   "cell_type": "markdown",
   "id": "1f928acb",
   "metadata": {},
   "source": [
    "## Model Design"
   ]
  },
  {
   "cell_type": "code",
   "execution_count": 412,
   "id": "e89f5cb9",
   "metadata": {},
   "outputs": [
    {
     "name": "stdout",
     "output_type": "stream",
     "text": [
      "NeuralNetwork(\n",
      "  (flatten): Flatten(start_dim=1, end_dim=-1)\n",
      "  (linear_relu_stack): Sequential(\n",
      "    (0): Linear(in_features=500, out_features=200, bias=True)\n",
      "    (1): ReLU()\n",
      "    (2): Linear(in_features=200, out_features=200, bias=True)\n",
      "    (3): ReLU()\n",
      "    (4): Linear(in_features=200, out_features=6, bias=True)\n",
      "    (5): ReLU()\n",
      "  )\n",
      ")\n"
     ]
    }
   ],
   "source": [
    "# Define model\n",
    "# Simple nn with only linear and relu layer\n",
    "class NeuralNetwork(nn.Module):\n",
    "    def __init__(self):\n",
    "        super(NeuralNetwork, self).__init__()\n",
    "        self.flatten = nn.Flatten()    ## Flattens a contiguous range of dims into a tensor. For use with Sequential.\n",
    "        self.linear_relu_stack = nn.Sequential(\n",
    "            nn.Linear(500, 200),\n",
    "            nn.ReLU(),\n",
    "            nn.Linear(200, 200),\n",
    "            nn.ReLU(),\n",
    "            nn.Linear(200, 6),\n",
    "            nn.ReLU()\n",
    "        )\n",
    "\n",
    "    def forward(self, x):\n",
    "        x = self.flatten(x)\n",
    "        logits = self.linear_relu_stack(x)\n",
    "        return logits\n",
    "\n",
    "model = NeuralNetwork().to(device)\n",
    "print(model)"
   ]
  },
  {
   "cell_type": "code",
   "execution_count": 413,
   "id": "163ad1d9",
   "metadata": {},
   "outputs": [],
   "source": [
    "# Optimizing the Model Parameters\n",
    "loss_fn = nn.CrossEntropyLoss()\n",
    "lr = 1e-4\n",
    "optimizer = torch.optim.SGD(model.parameters(), lr=lr)"
   ]
  },
  {
   "cell_type": "code",
   "execution_count": 414,
   "id": "ac37e6e6",
   "metadata": {},
   "outputs": [],
   "source": [
    "def train(dataloader, model, loss_fn, optimizer):\n",
    "    size = len(dataloader.dataset)\n",
    "    num_batches = len(dataloader)\n",
    "    train_loss = 0\n",
    "    for batch, (X, y) in enumerate(dataloader):\n",
    "        X, y = X.to(device), y.to(device)\n",
    "\n",
    "        # Compute prediction error\n",
    "        pred = model(X)\n",
    "        loss = loss_fn(pred, y)\n",
    "\n",
    "        train_loss += loss_fn(pred, y).item()\n",
    "        \n",
    "        # Backpropagation (three standard steps)\n",
    "        optimizer.zero_grad()\n",
    "        loss.backward()\n",
    "        optimizer.step()\n",
    "\n",
    "        if batch % 100 == 0:\n",
    "            loss, current = loss.item(), batch * len(X)\n",
    "            print(f\" train loss: {loss:>7f}  [{current:>5d}/{size:>5d}]\")\n",
    "\n",
    "    train_loss /= num_batches\n",
    "    return train_loss\n",
    "    # print(f\"Avg train loss: {train_loss:>8f} \\n\")\n",
    "            \n",
    "def test(dataloader, model):\n",
    "    size = len(dataloader.dataset)\n",
    "    num_batches = len(dataloader)\n",
    "    model.eval()\n",
    "    test_loss, correct = 0, 0\n",
    "    with torch.no_grad():\n",
    "        for X, y in dataloader:\n",
    "            X, y = X.to(device), y.to(device)\n",
    "            pred = model(X)\n",
    "            test_loss += loss_fn(pred, y).item()\n",
    "            correct += (pred.argmax(1) == y).type(torch.float).sum().item()\n",
    "    test_loss /= num_batches\n",
    "    correct /= size\n",
    "    return test_loss, correct\n",
    "    # print(f\"Test Error: \\n Accuracy: {(100*correct):>0.2f}%, Avg loss: {test_loss:>8f} \\n\")\n",
    "    "
   ]
  },
  {
   "cell_type": "markdown",
   "id": "f1c19539",
   "metadata": {},
   "source": [
    "## Model Training"
   ]
  },
  {
   "cell_type": "code",
   "execution_count": null,
   "id": "0716791c",
   "metadata": {
    "scrolled": true
   },
   "outputs": [],
   "source": [
    "epochs = 400\n",
    "train_loss_ls = []\n",
    "test_loss_ls = []\n",
    "\n",
    "for t in range(epochs):\n",
    "    print(f\"Epoch {t+1}\\n-------------------------------\")\n",
    "    train_loss = train(train_dataloader, model, loss_fn, optimizer)\n",
    "    test_loss, correct = test(test_dataloader, model)\n",
    "    train_loss_ls.append(train_loss)\n",
    "    test_loss_ls.append(test_loss)\n",
    "    print(f\"Epoch {t+1}\", \"train_loss:\", train_loss, \"test_loss:\", test_loss, \"Accuracy:\", (100*correct))\n",
    "print(\"Done!\")\n"
   ]
  },
  {
   "cell_type": "markdown",
   "id": "8ac0bc22",
   "metadata": {},
   "source": [
    "## Plot"
   ]
  },
  {
   "cell_type": "code",
   "execution_count": 416,
   "id": "b49b524f",
   "metadata": {},
   "outputs": [
    {
     "data": {
      "image/png": "[encoded data removed]",
      "text/plain": [
       "<Figure size 432x288 with 1 Axes>"
      ]
     },
     "metadata": {
      "needs_background": "light"
     },
     "output_type": "display_data"
    }
   ],
   "source": [
    "import matplotlib.pyplot as plt\n",
    "import matplotlib.pylab as pylab\n",
    "params = {'legend.fontsize':16,\n",
    "         'axes.labelsize':18,\n",
    "         'axes.titlesize':18,\n",
    "         'xtick.labelsize':18,\n",
    "         'ytick.labelsize':18,\n",
    "         'font.family':'Times New Roman'}\n",
    "pylab.rcParams.update(params)\n",
    "\n",
    "ini_ind = 0\n",
    "cut_ind = epochs\n",
    "epoch_ls = [i for i in range(epochs)]\n",
    "fig, ax = plt.subplots(1, 1, figsize=(6, 4))\n",
    "ax_train_loss, = ax.plot(epoch_ls[ini_ind:cut_ind], train_loss_ls[ini_ind:cut_ind], color=\"BLACK\", lw=2)\n",
    "ax_test_loss, = ax.plot(epoch_ls[ini_ind:cut_ind], test_loss_ls[ini_ind:cut_ind], color=\"RED\", lw=2)\n",
    "\n",
    "# ax.set_xlim([-1,110])\n",
    "# ax.set_ylim([-0.03,1.03])\n",
    "ax.set_xlabel('epoch')\n",
    "ax.set_ylabel('Loss')\n",
    "ax.grid(ls='--')\n",
    "title = 'batch_size_'+str(batch_size)+'_lr_'+str(lr)+'_epochs_'+str(epochs)\n",
    "ax.set_title(title)\n",
    "\n",
    "legend1 = plt.legend([ax_train_loss, ax_test_loss], ['Train Loss', 'Test Loss'])\n",
    "\n",
    "# plt.setp(ax, xticks=[0,10, 20, 30, 40, 60,80, 100 ])\n",
    "# plt.setp(ax, yticks=[0, 0.25, 0.5, 0.75,1.0])\n",
    "\n",
    "figure_path = '/Users/yi/PycharmProjects/uci_activity/figures'\n",
    "figure_name = 'loss_batch_size_'+str(batch_size)+'_lr_'+str(lr)+'_epochs_'+str(epochs)+'.pdf'\n",
    "fig.savefig(os.path.join(figure_path,figure_name), bbox_inches='tight')"
   ]
  },
  {
   "cell_type": "markdown",
   "id": "80a7324a",
   "metadata": {},
   "source": [
    "## Confusion matrix"
   ]
  },
  {
   "cell_type": "code",
   "execution_count": null,
   "id": "7aead63a",
   "metadata": {},
   "outputs": [],
   "source": [
    "from sklearn.metrics import confusion_matrix\n",
    "import numpy as np\n",
    "import seaborn as sn\n",
    "\n",
    "import matplotlib.pyplot as plt\n",
    "import matplotlib.pylab as pylab\n",
    "params = {'legend.fontsize':16,\n",
    "         'axes.labelsize':16,\n",
    "         'axes.titlesize':16,\n",
    "         'xtick.labelsize':16,\n",
    "         'ytick.labelsize':16,\n",
    "         'font.family':'Times New Roman'}\n",
    "pylab.rcParams.update(params)\n",
    "\n",
    "# Build confusion matrix\n",
    "classes = ['WALKING_UPSTAIRS', 'WALKING_DOWNSTAIRS', 'WALKING', 'STANDING', 'SITTING', 'LAYING']\n",
    "\n",
    "y_pred = []\n",
    "y_true = []\n",
    "\n",
    "# iterate over test data\n",
    "for inputs, labels in test_dataloader:\n",
    "        output = model(inputs) # Feed Network\n",
    "\n",
    "        output = (torch.max(torch.exp(output), 1)[1]).data.cpu().numpy()\n",
    "        y_pred.extend(output) # Save Prediction\n",
    "        \n",
    "        labels = labels.data.cpu().numpy()\n",
    "        y_true.extend(labels) # Save Truth\n",
    "\n",
    "cf_matrix = confusion_matrix(y_true, y_pred)\n",
    "\n",
    "df_cf = pd.DataFrame(cf_matrix, index = [i for i in classes],\n",
    "                     columns = [i for i in classes])\n",
    "df_cm = df_cf.div(df_cf.sum(axis=1), axis=0)\n",
    "\n",
    "plt.figure(figsize = (12,7))\n",
    "sn.heatmap(df_cm, annot=True, annot_kws={\"size\": 16},)\n",
    "\n",
    "plt.xticks(rotation = 30) # Rotates X-Axis Ticks by 45-degrees\n",
    "\n",
    "figure_path = '/Users/yi/PycharmProjects/uci_activity/figures'\n",
    "figure_name = 'confusion_matrix_'+str(batch_size)+'_lr_'+str(lr)+'_epochs_'+str(epochs)+'.png'\n",
    "plt.savefig(os.path.join(figure_path,figure_name), bbox_inches='tight', dpi=300)"
   ]
  },
  {
   "cell_type": "markdown",
   "id": "bbc09efb",
   "metadata": {},
   "source": [
    "## Model Visualization"
   ]
  },
  {
   "cell_type": "code",
   "execution_count": 287,
   "id": "2e059364",
   "metadata": {},
   "outputs": [
    {
     "data": {
      "text/plain": [
       "'rnn_torchviz.png'"
      ]
     },
     "execution_count": 287,
     "metadata": {},
     "output_type": "execute_result"
    }
   ],
   "source": [
    "from torchviz import make_dot\n",
    "\n",
    "for X, y in test_dataloader:\n",
    "    X, y = X.to(device), y.to(device)\n",
    "    pred = model(X)\n",
    "    break\n",
    "\n",
    "# make_dot(y.mean(), params=dict(model.named_parameters()), show_attrs=True, show_saved=True)\n",
    "\n",
    "make_dot(pred, params=dict(list(model.named_parameters()))).render(\"rnn_torchviz\", format=\"png\")"
   ]
  },
  {
   "cell_type": "code",
   "execution_count": 270,
   "id": "0300112c",
   "metadata": {},
   "outputs": [],
   "source": []
  },
  {
   "cell_type": "code",
   "execution_count": null,
   "id": "449b65ee",
   "metadata": {},
   "outputs": [],
   "source": []
  }
 ],
 "metadata": {
  "kernelspec": {
   "display_name": "Python 3 (ipykernel)",
   "language": "python",
   "name": "python3"
  },
  "language_info": {
   "codemirror_mode": {
    "name": "ipython",
    "version": 3
   },
   "file_extension": ".py",
   "mimetype": "text/x-python",
   "name": "python",
   "nbconvert_exporter": "python",
   "pygments_lexer": "ipython3",
   "version": "3.8.13"
  }
 },
 "nbformat": 4,
 "nbformat_minor": 5
}
